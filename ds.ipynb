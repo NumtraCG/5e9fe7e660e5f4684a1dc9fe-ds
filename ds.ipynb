{
 "cells": [
  {
   "cell_type": "markdown",
   "metadata": {},
   "source": [
    "***GENERATED CODE FOR ds PIPELINE***"
   ]
  },
  {
   "cell_type": "markdown",
   "metadata": {},
   "source": [
    "**CONNECTOR FUNCTIONS TO READ DATA FROM DATABRICKS FILESYSTEM**"
   ]
  },
  {
   "cell_type": "code",
   "execution_count": null,
   "metadata": {},
   "outputs": [],
   "source": [
    "import datetime\n",
    "import logging\n",
    "import warnings\n",
    "warnings.filterwarnings('ignore')\n",
    "logging.basicConfig(format='%(levelname)s:%(message)s', level=logging.DEBUG)\n",
    "\n",
    "\n",
    "class DBFSConnector:\n",
    "\n",
    "    def fetch(inStages, inStagesData, stageId, spark, config):\n",
    "        df = spark.read.\\\n",
    "            options(header='true' if eval(config)[\"is_header\"] == \"Use Header Line\" else 'false',\n",
    "                    inferschema='true',\n",
    "                    delimiter=eval(config)[\"delimiter\"])\\\n",
    "            .csv(eval(config)['url'])\n",
    "        display(df.limit(2).toPandas())\n",
    "        return df\n",
    "\n",
    "    def put(inStages, inStagesData, stageId, spark, config):\n",
    "        return inStagesData.write.format('csv').options(header='true' if eval(config)[\"is_header\"] == \"Use Header Line\" else 'false',\n",
    "                                                        delimiter=eval(config)[\"delimiter\"]).save((\"%s %s\") % (datetime.datetime.now().strftime(\"%Y-%m-%d %H.%M.%S\")+\"_\", eval(config)['url']))\n"
   ]
  },
  {
   "cell_type": "markdown",
   "metadata": {},
   "source": [
    "**TRANSFORMATIONS FUNCTIONS THAT WILL BE APPLIED ON DATA**"
   ]
  },
  {
   "cell_type": "code",
   "execution_count": null,
   "metadata": {},
   "outputs": [],
   "source": [
    "import json\n",
    "from pyspark.sql.functions import col, when\n",
    "from pyspark.sql.types import DoubleType, IntegerType, StringType\n",
    "from pyspark.sql.functions import mean, stddev, min, max, col\n",
    "\n",
    "\n",
    "class CleanseData:\n",
    "    # def __init__(self,df):\n",
    "    #     #print()\n",
    "\n",
    "    def replaceByMean(self, feature, df, mean_=-1):\n",
    "\n",
    "        meanValue = df.select(mean(col(feature.name)).alias(\n",
    "            'mean')).collect()[0][\"mean\"]\n",
    "        df.fillna(meanValue, subset=[feature.name])\n",
    "        df.withColumn(feature.name, when(col(feature.name) == \" \",\n",
    "                                         meanValue).otherwise(col(feature.name).cast(\"Integer\")))\n",
    "        return df\n",
    "\n",
    "    def replaceByMax(self, feature, df, max_=-1):\n",
    "        maxValue = df.select(max(col(feature.name)).alias('max')).collect()[\n",
    "            0][\"max\"]\n",
    "        df.fillna(maxValue, subset=[feature.name])\n",
    "        df = df.withColumn(feature.name,\n",
    "                           when(col(feature.name) == \" \", maxValue).otherwise(col(feature.name)))\n",
    "        return df\n",
    "\n",
    "    def replaceByMin(self, feature, df, min_=-1):\n",
    "        minValue = df.select(min(col(feature.name)).alias('min')).collect()[\n",
    "            0][\"min\"]\n",
    "        df.fillna(minValue, subset=[feature.name])\n",
    "        df = df.withColumn(feature.name,\n",
    "                           when(col(feature.name) == \" \", minValue).otherwise(col(feature.name)))\n",
    "        return df\n",
    "\n",
    "    def replaceByStandardDeviation(self, feature, df, stddev_=-1):\n",
    "        stddevValue = df.select(stddev(col(feature.name)).alias(\n",
    "            'stddev')).collect()[0][\"stddev\"]\n",
    "        df.fillna(stddevValue, subset=[feature.name])\n",
    "        df = df.withColumn(feature.name,\n",
    "                           when(col(feature.name) == \" \", stddevValue).otherwise(col(feature.name)))\n",
    "        return df\n",
    "\n",
    "    def replaceDateRandomly(self, feature, df):\n",
    "        fillValue = df.where(col(feature.name).isNotNull()\n",
    "                             ).head(1)[0][feature.name]\n",
    "        df.fillna(str(fillValue), subset=[feature.name])\n",
    "        df = df.withColumn(feature.name,\n",
    "                           when(col(feature.name) == \" \", fillValue).otherwise(col(feature.name)))\n",
    "        # print(\"CleanseData:replaceDateRandomly Schema : \", df.#printSchema())\n",
    "        return df\n",
    "\n",
    "    def replaceNullValues(self, fList, df):\n",
    "        featuresList = df.schema.fields\n",
    "        for featureObj in fList:\n",
    "            for feat in featuresList:\n",
    "                if featureObj[\"feature\"] in feat.name:\n",
    "                    featureName = feat\n",
    "                    if \"mean\" in featureObj[\"replaceby\"]:\n",
    "                        df = self.replaceByMean(featureName, df)\n",
    "                    elif \"max\" in featureObj[\"replaceby\"]:\n",
    "                        df = self.replaceByMax(featureName, df)\n",
    "                    elif \"min\" in featureObj[\"replaceby\"]:\n",
    "                        df = self.replaceByMin(featureName, df)\n",
    "                    elif \"stddev\" in featureObj[\"replaceby\"]:\n",
    "                        df = self.replaceByStandardDeviation(featureName, df)\n",
    "                    elif \"random\" in featureObj[\"replaceby\"]:\n",
    "                        df = self.replaceDateRandomly(featureName, df)\n",
    "        return df\n",
    "\n",
    "    def getTypedValue(self, type, value):\n",
    "        if isinstance(type, StringType):\n",
    "            return value\n",
    "        elif isinstance(type, DoubleType):\n",
    "            if isinstance(value, str):\n",
    "                if value == '0.0':\n",
    "                    return 0.0\n",
    "                else:\n",
    "                    return float(value)\n",
    "            return value\n",
    "        elif isinstance(type, IntegerType):\n",
    "            if isinstance(value, str):\n",
    "                if value == '0.0':\n",
    "                    return 0.0\n",
    "                elif \".\" in value:\n",
    "                    return int(float(value))\n",
    "                elif value.isalpha():\n",
    "                    return value\n",
    "                else:\n",
    "                    return int(value)\n",
    "            return value\n",
    "        return value\n",
    "\n",
    "\n",
    "Feature_Transformations_Methods = {\n",
    "\n",
    "}\n",
    "\n",
    "\n",
    "class TransformationMain:\n",
    "    # TODO: change df argument in run with following\n",
    "    def run(inStages, inStagesData, stageId, spark, config):\n",
    "        configObj = json.loads(config)\n",
    "        featureData = configObj[\"FE\"]\n",
    "        transformationDF = inStagesData[inStages[0]]\n",
    "        transformationDF = CleanseData().replaceNullValues(featureData, transformationDF)\n",
    "        for transformation in featureData:\n",
    "            feature = transformation[\"feature\"]\n",
    "            if transformation[\"transformation\"] != '' and transformation[\"selected\"].lower() == \"true\" and not (feature.__contains__(\"_transform\")):\n",
    "                transformationDF = Feature_Transformations_Methods[\"%s\" % transformation[\"transformation\"]](\n",
    "                    transformationDF, transformation)\n",
    "\n",
    "        display(transformationDF.limit(2).toPandas())\n",
    "        return transformationDF\n"
   ]
  },
  {
   "cell_type": "markdown",
   "metadata": {},
   "source": [
    "**AUTOML FUNCTIONS**"
   ]
  },
  {
   "cell_type": "code",
   "execution_count": null,
   "metadata": {},
   "outputs": [],
   "source": [
    "from tpot import TPOTClassifier\n",
    "from sklearn.model_selection import train_test_split\n",
    "import pyspark\n",
    "\n",
    "\n",
    "def functionClassification(sparkDF, listOfFeatures, label):\n",
    "    sparkDF.persist(pyspark.StorageLevel.MEMORY_AND_DISK)\n",
    "    df = sparkDF.toPandas()\n",
    "    df.columns.intersection(listOfFeatures)\n",
    "    X = df.drop(label, axis=1).values\n",
    "    y = df[label].values\n",
    "    X_train, X_test, y_train, y_test = train_test_split(\n",
    "        X, y, random_state=1, test_size=0.1)\n",
    "    tpotModel = TPOTClassifier(verbosity=3, n_jobs=-1, generations=10, max_time_mins=15,\n",
    "                               population_size=15)\n",
    "    tpotModel.fit(X_train, y_train)\n",
    "    display(\" Accuracy of Model : %s\" % tpotModel.score(X_test, y_test))\n"
   ]
  },
  {
   "cell_type": "markdown",
   "metadata": {},
   "source": [
    "**READING DATAFRAME**"
   ]
  },
  {
   "cell_type": "code",
   "execution_count": null,
   "metadata": {},
   "outputs": [],
   "source": [
    "from pyspark.sql import SparkSession\n",
    "spark = SparkSession.builder.getOrCreate()\n",
    "\n",
    "try: \n",
    "\tds_DBFS = DBFSConnector.fetch([], {}, \"5e9fe7e660e5f4684a1dc9ff\", spark, \"{'url': '/Demo/PredictiveChurnTest.csv', 'file_type': 'Delimeted', 'delimiter': ',', 'is_header': 'Use Header Line'}\")\n",
    "\n",
    "except Exception as ex: \n",
    "\tlogging.error(ex)\n"
   ]
  },
  {
   "cell_type": "markdown",
   "metadata": {},
   "source": [
    "**TRANSFORMING DATAFRAME**"
   ]
  },
  {
   "cell_type": "code",
   "execution_count": null,
   "metadata": {},
   "outputs": [],
   "source": [
    "try: \n",
    "\tds_AutoFE = TransformationMain.run([\"5e9fe7e660e5f4684a1dc9ff\"],{\"5e9fe7e660e5f4684a1dc9ff\": ds_DBFS}, \"5e9fe7e660e5f4684a1dca00\", spark,json.dumps( {\"FE\": [{\"transformationsData\": {\"feature_label\": \"State\"}, \"feature\": \"State\", \"type\": \"string\", \"selected\": \"True\", \"replaceby\": \"max\", \"stats\": {\"count\": \"4\", \"mean\": \"\", \"stddev\": \"\", \"min\": \"IA\", \"max\": \"VA\", \"missing\": \"0\"}, \"transformation\": \"String Indexer\"}, {\"transformationsData\": {}, \"feature\": \"Account_Length\", \"transformation\": \"\", \"type\": \"numeric\", \"replaceby\": \"mean\", \"selected\": \"True\", \"stats\": {\"count\": \"4\", \"mean\": \"130.25\", \"stddev\": \"40.3\", \"min\": \"74\", \"max\": \"168\", \"missing\": \"0\"}}, {\"transformationsData\": {}, \"feature\": \"Area_Code\", \"transformation\": \"\", \"type\": \"numeric\", \"replaceby\": \"mean\", \"selected\": \"True\", \"stats\": {\"count\": \"4\", \"mean\": \"437.0\", \"stddev\": \"48.78\", \"min\": \"408\", \"max\": \"510\", \"missing\": \"0\"}}, {\"transformationsData\": {\"feature_label\": \"Phone\"}, \"feature\": \"Phone\", \"type\": \"string\", \"selected\": \"True\", \"replaceby\": \"max\", \"stats\": {\"count\": \"4\", \"mean\": \"\", \"stddev\": \"\", \"min\": \"329-9001\", \"max\": \"363-1107\", \"missing\": \"0\"}, \"transformation\": \"String Indexer\"}, {\"transformationsData\": {\"feature_label\": \"Intl_Plan\"}, \"feature\": \"Intl_Plan\", \"type\": \"string\", \"selected\": \"True\", \"replaceby\": \"max\", \"stats\": {\"count\": \"4\", \"mean\": \"\", \"stddev\": \"\", \"min\": \"no\", \"max\": \"yes\", \"missing\": \"0\"}, \"transformation\": \"String Indexer\"}, {\"transformationsData\": {\"feature_label\": \"VMail_Plan\"}, \"feature\": \"VMail_Plan\", \"type\": \"string\", \"selected\": \"True\", \"replaceby\": \"max\", \"stats\": {\"count\": \"4\", \"mean\": \"\", \"stddev\": \"\", \"min\": \"no\", \"max\": \"no\", \"missing\": \"0\"}, \"transformation\": \"String Indexer\"}, {\"transformationsData\": {}, \"feature\": \"VMail_Message\", \"transformation\": \"\", \"type\": \"numeric\", \"replaceby\": \"mean\", \"selected\": \"True\", \"stats\": {\"count\": \"4\", \"mean\": \"0.0\", \"stddev\": \"0.0\", \"min\": \"0\", \"max\": \"0\", \"missing\": \"0\"}}, {\"transformationsData\": {}, \"feature\": \"Day_Mins\", \"type\": \"real\", \"selected\": \"True\", \"replaceby\": \"mean\", \"stats\": {\"count\": \"4\", \"mean\": \"138.65\", \"stddev\": \"45.28\", \"min\": \"81.1\", \"max\": \"187.7\", \"missing\": \"0\"}, \"transformation\": \"\"}, {\"transformationsData\": {}, \"feature\": \"Day_Calls\", \"transformation\": \"\", \"type\": \"numeric\", \"replaceby\": \"mean\", \"selected\": \"True\", \"stats\": {\"count\": \"4\", \"mean\": \"97.0\", \"stddev\": \"21.18\", \"min\": \"79\", \"max\": \"127\", \"missing\": \"0\"}}, {\"transformationsData\": {}, \"feature\": \"Day_Charge\", \"type\": \"real\", \"selected\": \"True\", \"replaceby\": \"mean\", \"stats\": {\"count\": \"4\", \"mean\": \"23.57\", \"stddev\": \"7.7\", \"min\": \"13.79\", \"max\": \"31.91\", \"missing\": \"0\"}, \"transformation\": \"\"}, {\"transformationsData\": {}, \"feature\": \"Eve_Mins\", \"type\": \"real\", \"selected\": \"True\", \"replaceby\": \"mean\", \"stats\": {\"count\": \"4\", \"mean\": \"154.15\", \"stddev\": \"66.85\", \"min\": \"103.1\", \"max\": \"245.2\", \"missing\": \"0\"}, \"transformation\": \"\"}, {\"transformationsData\": {}, \"feature\": \"Eve_Calls\", \"transformation\": \"\", \"type\": \"numeric\", \"replaceby\": \"mean\", \"selected\": \"True\", \"stats\": {\"count\": \"4\", \"mean\": \"96.25\", \"stddev\": \"36.1\", \"min\": \"71\", \"max\": \"148\", \"missing\": \"0\"}}, {\"transformationsData\": {}, \"feature\": \"Eve_Charge\", \"type\": \"real\", \"selected\": \"True\", \"replaceby\": \"mean\", \"stats\": {\"count\": \"4\", \"mean\": \"13.1\", \"stddev\": \"5.68\", \"min\": \"8.76\", \"max\": \"20.84\", \"missing\": \"0\"}, \"transformation\": \"\"}, {\"transformationsData\": {}, \"feature\": \"Night_Mins\", \"type\": \"real\", \"selected\": \"True\", \"replaceby\": \"mean\", \"stats\": {\"count\": \"4\", \"mean\": \"196.47\", \"stddev\": \"40.59\", \"min\": \"141.1\", \"max\": \"237.0\", \"missing\": \"0\"}, \"transformation\": \"\"}, {\"transformationsData\": {}, \"feature\": \"Night_Calls\", \"transformation\": \"\", \"type\": \"numeric\", \"replaceby\": \"mean\", \"selected\": \"True\", \"stats\": {\"count\": \"4\", \"mean\": \"108.25\", \"stddev\": \"16.21\", \"min\": \"94\", \"max\": \"128\", \"missing\": \"0\"}}, {\"transformationsData\": {}, \"feature\": \"Night_Charge\", \"type\": \"real\", \"selected\": \"True\", \"replaceby\": \"mean\", \"stats\": {\"count\": \"4\", \"mean\": \"8.84\", \"stddev\": \"1.83\", \"min\": \"6.35\", \"max\": \"10.67\", \"missing\": \"0\"}, \"transformation\": \"\"}, {\"transformationsData\": {}, \"feature\": \"Intl_Mins\", \"type\": \"real\", \"selected\": \"True\", \"replaceby\": \"mean\", \"stats\": {\"count\": \"4\", \"mean\": \"9.43\", \"stddev\": \"1.77\", \"min\": \"7.1\", \"max\": \"11.2\", \"missing\": \"0\"}, \"transformation\": \"\"}, {\"transformationsData\": {}, \"feature\": \"total_Mins\", \"type\": \"real\", \"selected\": \"True\", \"replaceby\": \"mean\", \"stats\": {\"count\": \"4\", \"mean\": \"498.7\", \"stddev\": \"85.65\", \"min\": \"386.0\", \"max\": \"573.6\", \"missing\": \"0\"}, \"transformation\": \"\"}, {\"transformationsData\": {}, \"feature\": \"Intl_Calls\", \"transformation\": \"\", \"type\": \"numeric\", \"replaceby\": \"mean\", \"selected\": \"True\", \"stats\": {\"count\": \"4\", \"mean\": \"3.75\", \"stddev\": \"2.06\", \"min\": \"2\", \"max\": \"6\", \"missing\": \"0\"}}, {\"transformationsData\": {}, \"feature\": \"Intl_Charge\", \"type\": \"real\", \"selected\": \"True\", \"replaceby\": \"mean\", \"stats\": {\"count\": \"4\", \"mean\": \"2.54\", \"stddev\": \"0.48\", \"min\": \"1.92\", \"max\": \"3.02\", \"missing\": \"0\"}, \"transformation\": \"\"}, {\"transformationsData\": {}, \"feature\": \"Total_Charge\", \"type\": \"real\", \"selected\": \"True\", \"replaceby\": \"mean\", \"stats\": {\"count\": \"4\", \"mean\": \"48.06\", \"stddev\": \"6.94\", \"min\": \"40.19\", \"max\": \"57.08\", \"missing\": \"0\"}, \"transformation\": \"\"}, {\"transformationsData\": {}, \"feature\": \"CustServ_Calls\", \"transformation\": \"\", \"type\": \"numeric\", \"replaceby\": \"mean\", \"selected\": \"True\", \"stats\": {\"count\": \"4\", \"mean\": \"0.25\", \"stddev\": \"0.5\", \"min\": \"0\", \"max\": \"1\", \"missing\": \"0\"}}, {\"transformationsData\": {}, \"feature\": \"Churn\", \"transformation\": \"\", \"type\": \"numeric\", \"replaceby\": \"mean\", \"selected\": \"True\", \"stats\": {\"count\": \"4\", \"mean\": \"0.0\", \"stddev\": \"0.0\", \"min\": \"0\", \"max\": \"0\", \"missing\": \"0\"}}, {\"transformationsData\": {\"feature_label\": \"cluster_labels\"}, \"feature\": \"cluster_labels\", \"type\": \"string\", \"selected\": \"True\", \"replaceby\": \"max\", \"stats\": {\"count\": \"4\", \"mean\": \"\", \"stddev\": \"\", \"min\": \"day_callers\", \"max\": \"low_spenders\", \"missing\": \"0\"}, \"transformation\": \"String Indexer\"}, {\"feature\": \"State_transform\", \"transformation\": \"\", \"transformationsData\": {}, \"type\": \"numeric\", \"selected\": \"True\", \"stats\": {\"count\": \"4\", \"mean\": \"1.5\", \"stddev\": \"1.29\", \"min\": \"0\", \"max\": \"3\", \"missing\": \"0\"}}, {\"feature\": \"Phone_transform\", \"transformation\": \"\", \"transformationsData\": {}, \"type\": \"numeric\", \"selected\": \"True\", \"stats\": {\"count\": \"4\", \"mean\": \"1.5\", \"stddev\": \"1.29\", \"min\": \"0\", \"max\": \"3\", \"missing\": \"0\"}}, {\"feature\": \"Intl_Plan_transform\", \"transformation\": \"\", \"transformationsData\": {}, \"type\": \"numeric\", \"selected\": \"True\", \"stats\": {\"count\": \"4\", \"mean\": \"0.25\", \"stddev\": \"0.5\", \"min\": \"0\", \"max\": \"1\", \"missing\": \"0\"}}, {\"feature\": \"VMail_Plan_transform\", \"transformation\": \"\", \"transformationsData\": {}, \"type\": \"numeric\", \"selected\": \"True\", \"stats\": {\"count\": \"4\", \"mean\": \"0.0\", \"stddev\": \"0.0\", \"min\": \"0\", \"max\": \"0\", \"missing\": \"0\"}}, {\"feature\": \"cluster_labels_transform\", \"transformation\": \"\", \"transformationsData\": {}, \"type\": \"numeric\", \"selected\": \"True\", \"stats\": {\"count\": \"4\", \"mean\": \"0.75\", \"stddev\": \"0.96\", \"min\": \"0\", \"max\": \"2\", \"missing\": \"0\"}}]}))\n",
    "\n",
    "except Exception as ex: \n",
    "\tlogging.error(ex)\n"
   ]
  },
  {
   "cell_type": "markdown",
   "metadata": {},
   "source": [
    "**TRAIN MODEL**"
   ]
  },
  {
   "cell_type": "code",
   "execution_count": null,
   "metadata": {},
   "outputs": [],
   "source": [
    "try: \n",
    "\tfunctionClassification(ds_AutoFE, [\"State\", \"Account_Length\", \"Area_Code\", \"Phone\", \"Intl_Plan\", \"VMail_Plan\", \"VMail_Message\", \"Day_Mins\", \"Day_Calls\", \"Day_Charge\", \"Eve_Mins\", \"Eve_Calls\", \"Eve_Charge\", \"Night_Mins\", \"Night_Calls\", \"Night_Charge\", \"Intl_Mins\", \"total_Mins\", \"Intl_Calls\", \"Intl_Charge\", \"Total_Charge\", \"CustServ_Calls\", \"cluster_labels\"], \"Churn\")\n",
    "\n",
    "except Exception as ex: \n",
    "\tlogging.error(ex)\n"
   ]
  }
 ],
 "metadata": {},
 "nbformat": 4,
 "nbformat_minor": 2
}
